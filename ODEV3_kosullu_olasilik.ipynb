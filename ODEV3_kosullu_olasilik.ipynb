{
  "nbformat": 4,
  "nbformat_minor": 0,
  "metadata": {
    "colab": {
      "provenance": [],
      "authorship_tag": "ABX9TyOY8NcNkwH2QZUSOYQpFw2f",
      "include_colab_link": true
    },
    "kernelspec": {
      "name": "python3",
      "display_name": "Python 3"
    },
    "language_info": {
      "name": "python"
    }
  },
  "cells": [
    {
      "cell_type": "markdown",
      "metadata": {
        "id": "view-in-github",
        "colab_type": "text"
      },
      "source": [
        "<a href=\"https://colab.research.google.com/github/ademgolcuk/kou-master/blob/main/ODEV3_kosullu_olasilik.ipynb\" target=\"_parent\"><img src=\"https://colab.research.google.com/assets/colab-badge.svg\" alt=\"Open In Colab\"/></a>"
      ]
    },
    {
      "cell_type": "markdown",
      "source": [
        "Soru : Bir radar sistemi, bir uçağı tespit etmek için iki ayrı sinyal gönderir. İlk sinyal uçağın gerçek konumunu tespit etmek için kullanılırken, ikinci sinyal uçağın hızını belirlemek için kullanılır. İlk sinyal ile uçağın gerçek konumu tam olarak belirlenirken, ikinci sinyal bazı hatalar içerebilir ve uçağın gerçek hızı ile farklı bir hız gösterir. Bu hata oranı, bir önceki hız ölçümüne bağlıdır.\n",
        "\n",
        "Bir uçak ilk sinyalde tespit edildikten sonra, hızının gerçek değerinin iki katına kadar bir hız ölçümü yapılır. Eğer bu hız ölçümü gerçek hızın yarısından fazla ise, ikinci sinyalın hata oranı %10'dan fazladır. Eğer hız ölçümü gerçek hızın yarısından az ise, ikinci sinyalın hata oranı %5'ten fazla değildir.\n",
        "\n",
        "Bir uçak için, ilk sinyalde gerçek konumu belirlenmiş ve ikinci sinyalde hız ölçümü yapılmıştır. İkinci sinyalın hız ölçümü, gerçek hızın yarısından büyük olduğuna göre, ikinci sinyalın hata oranı %10'dan fazladır. Bu durumda, bir sonraki hız ölçümünde hata oranı %20'den fazla olma olasılığı nedir?\n",
        "\n",
        "Cevap: Verilen koşullara göre, ikinci sinyalin hata oranı %10'dan fazladır. Bu nedenle, ikinci ölçümdeki hızın gerçek hızın iki katı olma olasılığı 1/2'den büyüktür.\n",
        "\n",
        "Şimdi, bir sonraki ölçümdeki hata oranı %20'den fazla olma olasılığını hesaplayalım. Bu durumda, ikinci ölçümdeki hızın gerçek hızın iki katı olma olasılığı 1/2'den büyüktür ve ikinci sinyalin hata oranı %10'dan fazladır. Bu bilgilere dayanarak, bir sonraki ölçümde hızın gerçek hızın iki katı olma olasılığı 1/2 x 1/10 = 1/20'dir.\n",
        "\n",
        "Sonuç olarak, bir sonraki ölçümdeki hata oranının %20'den fazla olma olasılığı 1/20'dir."
      ],
      "metadata": {
        "id": "vpCb8v8uwk96"
      }
    },
    {
      "cell_type": "code",
      "source": [
        "# İkinci ölçümdeki hata oranı %10'dan fazla olduğu için,\n",
        "# ikinci ölçümdeki hız gerçek hızın iki katından büyüktür.\n",
        "p = 0.5\n",
        "\n",
        "# Bir sonraki ölçümdeki hata oranı %20'den fazla olma olasılığı:\n",
        "# Bu, ikinci ölçümdeki hızın gerçek hızın iki katı olma\n",
        "# olasılığı ile ikinci ölçümdeki hata oranının %10'dan fazla\n",
        "# olma olasılığının çarpımına eşittir.\n",
        "p_error = p * 0.1\n",
        "print(\"Bir sonraki ölçümdeki hata oranının %20'den fazla olma olasılığı:\", p_error/20)"
      ],
      "metadata": {
        "colab": {
          "base_uri": "https://localhost:8080/"
        },
        "id": "ZbmuRmMFwlGZ",
        "outputId": "81f33162-46c4-4ce3-aabf-e22a49eb80f8"
      },
      "execution_count": 1,
      "outputs": [
        {
          "output_type": "stream",
          "name": "stdout",
          "text": [
            "Bir sonraki ölçümdeki hata oranının %20'den fazla olma olasılığı: 0.0025\n"
          ]
        }
      ]
    }
  ]
}