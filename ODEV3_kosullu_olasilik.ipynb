{
  "nbformat": 4,
  "nbformat_minor": 0,
  "metadata": {
    "colab": {
      "provenance": [],
      "authorship_tag": "ABX9TyPJVQ38jhZ6aWVTbsaDTKMz",
      "include_colab_link": true
    },
    "kernelspec": {
      "name": "python3",
      "display_name": "Python 3"
    },
    "language_info": {
      "name": "python"
    }
  },
  "cells": [
    {
      "cell_type": "markdown",
      "metadata": {
        "id": "view-in-github",
        "colab_type": "text"
      },
      "source": [
        "<a href=\"https://colab.research.google.com/github/ademgolcuk/kou-master/blob/main/ODEV3_kosullu_olasilik.ipynb\" target=\"_parent\"><img src=\"https://colab.research.google.com/assets/colab-badge.svg\" alt=\"Open In Colab\"/></a>"
      ]
    },
    {
      "cell_type": "markdown",
      "source": [
        "Soru 1 : Bir araştırmaya göre, bir yonga üretim fabrikasında üretilen her 43 yonga'dan 1 tanesi, üretim esnasında çıkan problemlerden kaynaklı olarak bozuk olarak üretilmektedir. Tam güvenilir olamamasına rağmen yapılan test sonuçlarına göre, bozuk bir yonganın testi %80 pozitif, sağlıklı bir yonganın testi ise %10 pozitif sonuç vermektedir. Bu bilgilere göre test sonucu pozitif olan bir yonganın gerçekten bozuk olma olasılığı nedir?\n",
        "\n",
        "\n",
        "Cevap: Verilen bilgilere göre, herhangi bir yonganın bozuk olma olasılığı, 1/43 veya yaklaşık %2.3'tür. Bozuk bir yonga test edildiğinde %80 pozitif sonuç verir, yani bozuk bir yonganın test sonucu pozitif olma olasılığı %80'dir. Benzer şekilde, sağlam bir yonga test edildiğinde %10 pozitif sonuç verir, yani sağlam bir yonganın test sonucu pozitif olma olasılığı %10'dur.\n",
        "\n",
        "Soru, test sonucu pozitif olan bir yonganın gerçekten bozuk olma olasılığını sormaktadır. Bunu hesaplamak için Bayes teoremini kullanabiliriz:\n",
        "\n",
        "P(Bozuk | Pozitif) = P(Pozitif | Bozuk) * P(Bozuk) / P(Pozitif)\n",
        "\n",
        "P(A) : Yonganın bozuk üretilme olasılığı = 1/43\n",
        "\n",
        "P(B) : Testin pozitif çıkması olasılığı = 1/43 * 0.80 + 42/43 * 0.10 = 5/43\n",
        "\n",
        "P(A|B) : Pozitif çıkan testin bozuk yonga olma olasılığı ( sorulan bu )\n",
        "\n",
        "P(B|A) : Bozuk yonganın testinin pozitif çıkma olasılığı = 0.80\n",
        "\n",
        "P(A|B)= [P(B|A) * P(A)] / P(B) => (0.80 * 1/43) / (5/43) = 0.16 = %16 bulunur.\n",
        "\n",
        "\n"
      ],
      "metadata": {
        "id": "nuVvLKr-mwzb"
      }
    },
    {
      "cell_type": "code",
      "source": [
        "P_A = 1/43  # Yonganın bozuk üretilme olasılığı\n",
        "P_B = (1/43 * 0.80) + (42/43 * 0.10)  # Testin pozitif çıkması olasılığı\n",
        "P_B_given_A = 0.80  # Bozuk yonganın testinin pozitif çıkma olasılığı\n",
        "P_A_given_B = (P_B_given_A * P_A) / P_B  # Pozitif çıkan testin bozuk yonga olma olasılığı\n",
        "print(\"Pozitif çıkan testin bozuk yonga olma olasılığı: {:.2f}%\".format(P_A_given_B * 100))"
      ],
      "metadata": {
        "colab": {
          "base_uri": "https://localhost:8080/"
        },
        "id": "SvnWCHpDqfSC",
        "outputId": "cefc671a-80d6-45f7-8b64-e252e0d7cdb6"
      },
      "execution_count": 1,
      "outputs": [
        {
          "output_type": "stream",
          "name": "stdout",
          "text": [
            "Pozitif çıkan testin bozuk yonga olma olasılığı: 16.00%\n"
          ]
        }
      ]
    },
    {
      "cell_type": "markdown",
      "source": [
        "Soru 2 : Bir radar sistemi, bir uçağı tespit etmek için iki ayrı sinyal gönderir. İlk sinyal uçağın gerçek konumunu tespit etmek için kullanılırken, ikinci sinyal uçağın hızını belirlemek için kullanılır. İlk sinyal ile uçağın gerçek konumu tam olarak belirlenirken, ikinci sinyal bazı hatalar içerebilir ve uçağın gerçek hızı ile farklı bir hız gösterir. Bu hata oranı, bir önceki hız ölçümüne bağlıdır.\n",
        "\n",
        "Bir uçak ilk sinyalde tespit edildikten sonra, hızının gerçek değerinin iki katına kadar bir hız ölçümü yapılır. Eğer bu hız ölçümü gerçek hızın yarısından fazla ise, ikinci sinyalın hata oranı %10'dan fazladır. Eğer hız ölçümü gerçek hızın yarısından az ise, ikinci sinyalın hata oranı %5'ten fazla değildir.\n",
        "\n",
        "Bir uçak için, ilk sinyalde gerçek konumu belirlenmiş ve ikinci sinyalde hız ölçümü yapılmıştır. İkinci sinyalın hız ölçümü, gerçek hızın yarısından büyük olduğuna göre, ikinci sinyalın hata oranı %10'dan fazladır. Bu durumda, bir sonraki hız ölçümünde hata oranı %20'den fazla olma olasılığı nedir?\n",
        "\n",
        "Cevap: Verilen koşullara göre, ikinci sinyalin hata oranı %10'dan fazladır. Bu nedenle, ikinci ölçümdeki hızın gerçek hızın iki katı olma olasılığı 1/2'den büyüktür.\n",
        "\n",
        "Şimdi, bir sonraki ölçümdeki hata oranı %20'den fazla olma olasılığını hesaplayalım. Bu durumda, ikinci ölçümdeki hızın gerçek hızın iki katı olma olasılığı 1/2'den büyüktür ve ikinci sinyalin hata oranı %10'dan fazladır. Bu bilgilere dayanarak, bir sonraki ölçümde hızın gerçek hızın iki katı olma olasılığı 1/2 x 1/10 = 1/20'dir.\n",
        "\n",
        "Sonuç olarak, bir sonraki ölçümdeki hata oranının %20'den fazla olma olasılığı 1/20'dir."
      ],
      "metadata": {
        "id": "vpCb8v8uwk96"
      }
    },
    {
      "cell_type": "code",
      "source": [
        "# İkinci sinyalin hata oranı %10'dan fazladır ve ikinci ölçümdeki hızın gerçek hızın iki katı olma olasılığı 1/2'den büyüktür.\n",
        "p = 1/2 * 1/10\n",
        "\n",
        "# Bir sonraki ölçümde hızın gerçek hızın iki katı olma olasılığı\n",
        "p_next = p\n",
        "\n",
        "# Bir sonraki ölçümdeki hata oranının %20'den fazla olma olasılığı\n",
        "p_error = p_next * 1/4  # 1/4 çünkü 2 katı fazla olan hızın gerçek hızın yarısından büyük olması gerekiyor.\n",
        "\n",
        "print(\"Bir sonraki ölçümdeki hata oranının %20'den fazla olma olasılığı:\", p_error)"
      ],
      "metadata": {
        "colab": {
          "base_uri": "https://localhost:8080/"
        },
        "id": "ZbmuRmMFwlGZ",
        "outputId": "de0805c1-881b-48d0-b7f9-54bc62392db9"
      },
      "execution_count": null,
      "outputs": [
        {
          "output_type": "stream",
          "name": "stdout",
          "text": [
            "Bir sonraki ölçümdeki hata oranının %20'den fazla olma olasılığı: 0.0125\n"
          ]
        }
      ]
    }
  ]
}