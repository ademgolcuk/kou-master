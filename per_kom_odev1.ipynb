{
  "nbformat": 4,
  "nbformat_minor": 0,
  "metadata": {
    "colab": {
      "provenance": [],
      "authorship_tag": "ABX9TyOFHHP4n5vFMRBIdLnA/3DD",
      "include_colab_link": true
    },
    "kernelspec": {
      "name": "python3",
      "display_name": "Python 3"
    },
    "language_info": {
      "name": "python"
    }
  },
  "cells": [
    {
      "cell_type": "markdown",
      "metadata": {
        "id": "view-in-github",
        "colab_type": "text"
      },
      "source": [
        "<a href=\"https://colab.research.google.com/github/ademgolcuk/kou-master/blob/main/per_kom_odev1.ipynb\" target=\"_parent\"><img src=\"https://colab.research.google.com/assets/colab-badge.svg\" alt=\"Open In Colab\"/></a>"
      ]
    },
    {
      "cell_type": "markdown",
      "source": [
        "Alıştırma: Permütasyon nesnelerin diziliş sayısını bulmamızı sağlar.4arkadaştan 3’ü masaya oturucaktır.\n",
        "\n",
        "Bu 3 kişi kaç farklı şekilde masaya oturabilir sorusuna çözüm bulmak için permütasyon kullanırız.\n",
        "\n",
        "Python ile aldığı sayılara göre permütasyon hesabı yapan kodlar aşağıdadır."
      ],
      "metadata": {
        "id": "1FkMdAiBm_UT"
      }
    },
    {
      "cell_type": "code",
      "source": [
        "def faktoriyelHesapla(i):\n",
        "    \n",
        "    if i==1:       \n",
        "        return 1\n",
        "    \n",
        "    else: \n",
        "        return i * faktoriyelHesapla(i-1)\n",
        "    \n",
        "def permutasyonHesapla(j,k):\n",
        "    \n",
        "    l = 0\n",
        "    \n",
        "    if k>j:        \n",
        "        l = l\n",
        "        \n",
        "    else:      \n",
        "        l = faktoriyelHesapla(j)/faktoriyelHesapla(j-k)\n",
        "        return l\n",
        "    \n",
        "print(\"Permütasyon hesabı için lütfen sayıları giriniz.\")   \n",
        " \n",
        "sayi1 = int(input(\"1. Sayı Giriniz: \"))\n",
        " \n",
        "sayi2 = int(input(\"2. Sayı Giriniz: \")) \n",
        " \n",
        "print(\"\\nSonuç:\", permutasyonHesapla(sayi1,sayi2) )"
      ],
      "metadata": {
        "colab": {
          "base_uri": "https://localhost:8080/"
        },
        "id": "qNizgYHFTjxT",
        "outputId": "eb84b63d-9d3a-4e7e-bbba-87fdd498d3f6"
      },
      "execution_count": null,
      "outputs": [
        {
          "output_type": "stream",
          "name": "stdout",
          "text": [
            "Permütasyon hesabı için lütfen sayıları giriniz.\n",
            "1. Sayı Giriniz: 5\n",
            "2. Sayı Giriniz: 2\n",
            "\n",
            "Sonuç: 20.0\n"
          ]
        }
      ]
    },
    {
      "cell_type": "markdown",
      "source": [
        "Soru1 : 0, 1, 2, 3, 4, 5, 6, 7, 8 ve 9’un alfabetik sıraya göre bir milyonuncu permütasyonu kaçtır?\n",
        "\n",
        "Örnek : 0, 1, 2 ‘nin alfabetik sıralı (küçükten büyüğe) permütasyonları; 012 021 102 120 201 210 ‘dur.\n",
        "\n",
        "\n",
        "Cevap: itertools, permütasyon fonksiyonu ile listenin verilen ilk elemanlarından başlayarak sıralı bir listeleme döndürmektedir. O zaman yapmamız gereken gayet basit."
      ],
      "metadata": {
        "id": "1agXKXpiMYTq"
      }
    },
    {
      "cell_type": "code",
      "source": [
        "import itertools\n",
        "\n",
        "sonuc=list(itertools.permutations([0,1,2,3,4,5,6,7,8,9]))[999999]\n",
        "print(sonuc)"
      ],
      "metadata": {
        "colab": {
          "base_uri": "https://localhost:8080/"
        },
        "id": "BCgji4TbMybQ",
        "outputId": "3982a67a-cf54-494e-8c32-a18bf82189a9"
      },
      "execution_count": null,
      "outputs": [
        {
          "output_type": "stream",
          "name": "stdout",
          "text": [
            "(2, 7, 8, 3, 9, 1, 5, 4, 6, 0)\n"
          ]
        }
      ]
    },
    {
      "cell_type": "markdown",
      "source": [
        "Soru2 : Türkiye ve Suriye sınırındaki hava alanını izlemek için envanterde 8 adet haraketli radar, 6 adet sabit platformlu radar  bulunmaktadır. Envanterden seçilecek 4 radar için;\n",
        "\n",
        "a) Belirlenen hava sahasının tamamını haraketli radar platformları ile izlemek için kaç farklı seçim yapılabilir?\n",
        "\n",
        "b) En az bir sabit radar ile hava sahasını izlemek için kaç farklı şekilde seçim yapılabilir?\n",
        "\n",
        "\n",
        "Çözüm:\n",
        "\n",
        "a) Hava sahasının tamamını haraketli platformlu radarlar ile izleyecek şekilde seçim yapmak için, sadece haraketli platformlu radarlar seçilmesi gerekmektedir. \n",
        "\n",
        "Envanterdeki haraketli radar sayısı 8 olduğundan, 4 haraketli radar seçmek için 8'in kombinasyonu olan C(8,4) kullanılır. Bu görevde, hava sahasının tamamı haraketli radarlar ile izlenecek şekilde 70 farklı seçim yapılabilir.\n",
        "\n",
        "b) En az bir sabit platformlu radarın olduğu bir seçim için, ya 1, 2, 3 ya da 4 sabit platformlu radar seçilmelidir. Bu durumlardan her biri için, kalan radarlar haraketli platform üzerinde olmalıdır.\n",
        "\n",
        "1 sabit platformlu ve 3 haraketli radar seçmek için, 6 sabit platformlu radar arasından 1 seçim yapılmalıdır (C(6,1)) ve 8 haraketli radar arasından 3 seçim yapılmalıdır (C(8,3)). Bu durumda, toplam seçim sayısı 6 x 56 = 336'dır.\n",
        "\n",
        "2 sabit platformlu radar ve 2 haraketli radar seçmek için, 6 sabit platformlu radar arasından 2 seçim yapılmalıdır (C(6,2)) ve 8 haraketli radar arasından 2 seçim yapılmalıdır (C(8,2)). Bu durumda, toplam seçim sayısı 15 x 28 = 420'dir.\n",
        "\n",
        "3 sabit platformlu radar ve 1 haraketli radar seçmek için, 6 sabit platformlu radar arasından 3 seçim yapılmalıdır (C(6,3)) ve 8 haraketli radar arasından 1 seçim yapılmalıdır (C(8,1)). Bu durumda, toplam seçim sayısı 20 x 8 = 160'dır.\n",
        "\n",
        "4 sabit platformlu radar ve 0 haraketli radar seçmek için, 6 sabit platformlu radar arasından 4 seçim yapılmalıdır (C(6,4)). Bu durumda, toplam seçim sayısı 15'dir.\n",
        "\n",
        "Toplam seçim sayısı, tüm durumlar için toplamı alarak bulunur:\n",
        "\n",
        "336 + 420 + 160 + 15 = 931\n",
        "\n",
        "Bu nedenle, en az bir sabit platformlu radarın olduğu bir hava izleme görevi için 931 farklı seçim yapılabilir."
      ],
      "metadata": {
        "id": "gKhw9iM_M5hO"
      }
    },
    {
      "cell_type": "code",
      "source": [
        "import math\n",
        "\n",
        "# a) Hava sahasının tamamını haraketli platformlu radarlar ile izleyecek şekilde seçim yapmak\n",
        "# için 8 hareketli radar arasından 4 tanesinin seçilmesi gerekiyor.\n",
        "all_dynamic_plat_radars = math.comb(8, 4)\n",
        "print(\"Tamamı haraketli radarların olduğu senaryo :\", all_dynamic_plat_radars)\n",
        "\n",
        "# b) En az bir sabit platformlu radarın olduğu bir seçim için, haraketli radarların ve sabit platformlu radarların\n",
        "# seçimleri ayrı ayrı hesaplanıp toplamı alınabilir.\n",
        "one_or_more_static_radar = (\n",
        "    math.comb(6, 1) * math.comb(8, 3) +\n",
        "    math.comb(6, 2) * math.comb(8, 2) +\n",
        "    math.comb(6, 3) * math.comb(8, 1) +\n",
        "    math.comb(6, 4) * math.comb(8, 0)\n",
        ")\n",
        "print(\"En az bir sabit radarın olduğu senaryo:\", one_or_more_static_radar)\n"
      ],
      "metadata": {
        "colab": {
          "base_uri": "https://localhost:8080/"
        },
        "id": "ES9QkuT-M53H",
        "outputId": "f6603c0a-e2f3-464b-bc55-f4103a632de5"
      },
      "execution_count": 2,
      "outputs": [
        {
          "output_type": "stream",
          "name": "stdout",
          "text": [
            "Tamamı haraketli radarların olduğu senaryo : 70\n",
            "En az bir sabit radarın olduğu senaryo: 931\n"
          ]
        }
      ]
    }
  ]
}