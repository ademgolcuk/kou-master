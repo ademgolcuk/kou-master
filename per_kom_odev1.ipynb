{
  "nbformat": 4,
  "nbformat_minor": 0,
  "metadata": {
    "colab": {
      "provenance": [],
      "authorship_tag": "ABX9TyNPrBA7LmvZmolcHrb3YE9d",
      "include_colab_link": true
    },
    "kernelspec": {
      "name": "python3",
      "display_name": "Python 3"
    },
    "language_info": {
      "name": "python"
    }
  },
  "cells": [
    {
      "cell_type": "markdown",
      "metadata": {
        "id": "view-in-github",
        "colab_type": "text"
      },
      "source": [
        "<a href=\"https://colab.research.google.com/github/ademgolcuk/kou-master/blob/main/per_kom_odev1.ipynb\" target=\"_parent\"><img src=\"https://colab.research.google.com/assets/colab-badge.svg\" alt=\"Open In Colab\"/></a>"
      ]
    },
    {
      "cell_type": "code",
      "execution_count": null,
      "metadata": {
        "id": "MLf7-RGQluIu",
        "colab": {
          "base_uri": "https://localhost:8080/"
        },
        "outputId": "76e8150e-07d2-4b09-e1ae-31476d338d68"
      },
      "outputs": [
        {
          "output_type": "stream",
          "name": "stdout",
          "text": [
            "Permütasyon hesabı için lütfen sayıları giriniz.\n",
            "1. Sayı Giriniz: 5\n",
            "2. Sayı Giriniz: 2\n",
            "\n",
            "Sonuç: 20.0\n"
          ]
        }
      ],
      "source": [
        " \n",
        "def faktoriyelHesapla(i):\n",
        "    \n",
        "    if i==1:       \n",
        "        return 1\n",
        "    \n",
        "    else: \n",
        "        return i * faktoriyelHesapla(i-1)\n",
        "    \n",
        "def permutasyonHesapla(j,k):\n",
        "    \n",
        "    l = 0\n",
        "    \n",
        "    if k>j:        \n",
        "        l = l\n",
        "        \n",
        "    else:      \n",
        "        l = faktoriyelHesapla(j)/faktoriyelHesapla(j-k)\n",
        "        return l\n",
        "    \n",
        "print(\"Permütasyon hesabı için lütfen sayıları giriniz.\")   \n",
        " \n",
        "sayi1 = int(input(\"1. Sayı Giriniz: \"))\n",
        " \n",
        "sayi2 = int(input(\"2. Sayı Giriniz: \")) \n",
        " \n",
        "print(\"\\nSonuç:\", permutasyonHesapla(sayi1,sayi2) )"
      ]
    },
    {
      "cell_type": "markdown",
      "source": [
        "Alıştırma: Permütasyon nesnelerin diziliş sayısını bulmamızı sağlar.4arkadaştan 3’ü masaya oturucaktır.\n",
        "\n",
        "Bu 3 kişi kaç farklı şekilde masaya oturabilir sorusuna çözüm bulmak için permütasyon kullanırız.\n",
        "\n",
        "Python ile aldığı sayılara göre permütasyon hesabı yapan kodlar yukarıdadır."
      ],
      "metadata": {
        "id": "1FkMdAiBm_UT"
      }
    },
    {
      "cell_type": "markdown",
      "source": [
        "Soru1 : 0, 1, 2, 3, 4, 5, 6, 7, 8 ve 9’un alfabetik sıraya göre bir milyonuncu permütasyonu kaçtır?\n",
        "\n",
        "Örnek : 0, 1, 2 ‘nin alfabetik sıralı (küçükten büyüğe) permütasyonları; 012 021 102 120 201 210 ‘dur.\n",
        "\n",
        "\n",
        "Cevap: itertools, permütasyon fonksiyonu ile listenin verilen ilk elemanlarından başlayarak sıralı bir listeleme döndürmektedir. O zaman yapmamız gereken gayet basit."
      ],
      "metadata": {
        "id": "1agXKXpiMYTq"
      }
    },
    {
      "cell_type": "code",
      "source": [
        "import itertools\n",
        "\n",
        "sonuc=list(itertools.permutations([0,1,2,3,4,5,6,7,8,9]))[999999]\n",
        "print(sonuc)"
      ],
      "metadata": {
        "colab": {
          "base_uri": "https://localhost:8080/"
        },
        "id": "BCgji4TbMybQ",
        "outputId": "3982a67a-cf54-494e-8c32-a18bf82189a9"
      },
      "execution_count": 6,
      "outputs": [
        {
          "output_type": "stream",
          "name": "stdout",
          "text": [
            "(2, 7, 8, 3, 9, 1, 5, 4, 6, 0)\n"
          ]
        }
      ]
    },
    {
      "cell_type": "markdown",
      "source": [
        "Soru2 : Bir toplulukta 8 kadın ve 6 erkek bulunmaktadır. Topluluktan seçilecek 4 kişilik bir komite için:\n",
        "\n",
        "a) Komitenin tamamı kadınlardan oluşacak şekilde kaç farklı seçim yapılabilir?\n",
        "\n",
        "b) En az bir erkeğin olduğu bir komite kaç farklı şekilde seçilebilir?\n",
        "\n",
        "Çözüm:\n",
        "\n",
        "a) Komitenin tamamı kadınlardan oluşacak şekilde seçim yapmak için, sadece kadınların seçilmesi gerekmektedir. Topluluktaki kadın sayısı 8 olduğundan, 4 kadın seçmek için 8'in kombinasyonu olan C(8,4) kullanılır. Bu nedenle, tamamı kadınlardan oluşan bir komite için 70 farklı seçim yapılabilir.\n",
        "\n",
        "b) En az bir erkeğin olduğu bir komite seçmek için, ya 1, 2, 3 ya da 4 erkek seçilmelidir. Bu durumlardan her biri için, kalan kişiler kadın olmalıdır.\n",
        "\n",
        "1 erkek ve 3 kadın seçmek için, 6 erkek arasından 1 seçim yapılmalıdır (C(6,1)) ve 8 kadın arasından 3 seçim yapılmalıdır (C(8,3)). Bu durumda, toplam seçim sayısı 6 x 56 = 336'dır.\n",
        "\n",
        "2 erkek ve 2 kadın seçmek için, 6 erkek arasından 2 seçim yapılmalıdır (C(6,2)) ve 8 kadın arasından 2 seçim yapılmalıdır (C(8,2)). Bu durumda, toplam seçim sayısı 15 x 28 = 420'dir.\n",
        "\n",
        "3 erkek ve 1 kadın seçmek için, 6 erkek arasından 3 seçim yapılmalıdır (C(6,3)) ve 8 kadın arasından 1 seçim yapılmalıdır (C(8,1)). Bu durumda, toplam seçim sayısı 20 x 8 = 160'dır.\n",
        "\n",
        "4 erkek ve 0 kadın seçmek için, 6 erkek arasından 4 seçim yapılmalıdır (C(6,4)). Bu durumda, toplam seçim sayısı 15'dir.\n",
        "\n",
        "Toplam seçim sayısı, tüm durumlar için toplamı alarak bulunur:\n",
        "\n",
        "336 + 420 + 160 + 15 = 931\n",
        "\n",
        "Bu nedenle, en az bir erkeğin olduğu bir komite için 931 farklı seçim yapılabilir."
      ],
      "metadata": {
        "id": "gKhw9iM_M5hO"
      }
    },
    {
      "cell_type": "code",
      "source": [
        "import math\n",
        "\n",
        "# a) Komitenin tamamı kadınlardan oluşacak şekilde seçim yapmak\n",
        "# için 8 kadın arasından 4 tanesinin seçilmesi gerekiyor.\n",
        "all_female_committee = math.comb(8, 4)\n",
        "print(\"Tamamı kadınlardan oluşan komite sayısı:\", all_female_committee)\n",
        "\n",
        "# b) En az bir erkeğin olduğu bir komite için, kadınların ve erkeklerin\n",
        "# seçimleri ayrı ayrı hesaplanıp toplamı alınabilir.\n",
        "one_or_more_male_committee = (\n",
        "    math.comb(6, 1) * math.comb(8, 3) +\n",
        "    math.comb(6, 2) * math.comb(8, 2) +\n",
        "    math.comb(6, 3) * math.comb(8, 1) +\n",
        "    math.comb(6, 4) * math.comb(8, 0)\n",
        ")\n",
        "print(\"En az bir erkeğin olduğu komite sayısı:\", one_or_more_male_committee)\n"
      ],
      "metadata": {
        "colab": {
          "base_uri": "https://localhost:8080/"
        },
        "id": "ES9QkuT-M53H",
        "outputId": "885dc654-c0c5-433d-d9f5-8501821c00fa"
      },
      "execution_count": 8,
      "outputs": [
        {
          "output_type": "stream",
          "name": "stdout",
          "text": [
            "Tamamı kadınlardan oluşan komite sayısı: 70\n",
            "En az bir erkeğin olduğu komite sayısı: 931\n"
          ]
        }
      ]
    }
  ]
}