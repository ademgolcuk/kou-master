{
  "metadata": {
    "language_info": {
      "codemirror_mode": {
        "name": "python",
        "version": 3
      },
      "file_extension": ".py",
      "mimetype": "text/x-python",
      "name": "python",
      "nbconvert_exporter": "python",
      "pygments_lexer": "ipython3",
      "version": "3.8"
    },
    "kernelspec": {
      "name": "python",
      "display_name": "Python (Pyodide)",
      "language": "python"
    },
    "colab": {
      "provenance": [],
      "include_colab_link": true
    }
  },
  "nbformat_minor": 0,
  "nbformat": 4,
  "cells": [
    {
      "cell_type": "markdown",
      "metadata": {
        "id": "view-in-github",
        "colab_type": "text"
      },
      "source": [
        "<a href=\"https://colab.research.google.com/github/ademgolcuk/kou-master/blob/main/ODEV2_soru1.ipynb\" target=\"_parent\"><img src=\"https://colab.research.google.com/assets/colab-badge.svg\" alt=\"Open In Colab\"/></a>"
      ]
    },
    {
      "cell_type": "markdown",
      "source": [
        "SORU 1: \n",
        "\n",
        "Bir radar istasyonu, tespit mesafesi 120 km olan bir hedefi tespit etmek için çalışıyor. Hedefin belirli bir zamanda istasyona 90 km mesafede olduğu biliniyor. Ancak, radyasyon alanında bir arıza meydana gelir ise, hedefin tespit edilme olasılığı %80'den %60'a düşürülecektir. Radyasyon alanında bir arızanın meydana gelme olasılığı %1.56 dır. Bu durumda hedefin istasyon tarafından tespit edilme olasılığı nedir?\n",
        "\n",
        "Çözüm:\n",
        "\n",
        "Bu soruda, hedefin tespit edilme olasılığı belirli koşullar altında hesaplanması isteniyor. Verilen bilgilere göre, aşağıdaki adımlar izlenebilir:\n",
        "\n",
        "Hedefin istasyona olan mesafesi distance = 90 km olarak verilmiş.\n",
        "\n",
        "Tespit mesafesi detection_range = 120 km olarak belirtilmiş.\n",
        "\n",
        "Normal tespit olasılığı p_normal = 0.8 olarak verilmiş.\n",
        "\n",
        "Arızalı tespit olasılığı p_faulty = 0.6 olarak verilmiş.\n",
        "\n",
        "Arıza meydana gelme olasılığı p_fault = 0.0156 olarak belirtilmiş.\n",
        "\n",
        "Hedefin tespit edilme olasılığı, tespit mesafesine ve hedefin mesafesine bağlı olduğundan, öncelikle hedefin tespit mesafesi içinde olup olmadığını kontrol etmek gerekir. Hedefin tespit mesafesi içinde olması durumunda, arıza olup olmadığına bakarak normal veya arızalı tespit olasılıklarına göre hesaplama yapılabilir.\n",
        "\n",
        "Bu bilgilere göre, hedefin tespit edilme olasılığı aşağıdaki şekilde hesaplanabilir:\n"
      ],
      "metadata": {
        "id": "Xrz1PBuoNdAW"
      }
    },
    {
      "cell_type": "code",
      "source": [
        "# Hedefin istasyona olan mesafesi\n",
        "distance = 90\n",
        "\n",
        "# Tespit mesafesi\n",
        "detection_range = 120\n",
        "\n",
        "# Normal tespit olasılığı\n",
        "p_normal = 0.8\n",
        "\n",
        "# Arızalı tespit olasılığı\n",
        "p_faulty = 0.6\n",
        "\n",
        "# Arıza olma olasılığı\n",
        "p_fault = 0.0156\n",
        "\n",
        "# Hedefin tespit edilme olasılığı hesaplanır\n",
        "if distance <= detection_range:\n",
        "    p_detection = (p_normal * (1 - p_fault)) + (p_faulty * p_fault)\n",
        "else:\n",
        "    p_detection = 0\n",
        "\n",
        "# Sonuçları ekrana yazdır\n",
        "print(\"Hedefin tespit edilme olasılığı: {:.2f}%\".format(p_detection * 100))"
      ],
      "metadata": {
        "trusted": true,
        "colab": {
          "base_uri": "https://localhost:8080/"
        },
        "id": "yoY1VQA7NdAj",
        "outputId": "c4678b90-08a7-4ba0-a4ac-6d20b9c58b18"
      },
      "execution_count": 3,
      "outputs": [
        {
          "output_type": "stream",
          "name": "stdout",
          "text": [
            "Hedefin tespit edilme olasılığı: 79.69%\n"
          ]
        }
      ]
    },
    {
      "cell_type": "code",
      "source": [],
      "metadata": {
        "id": "QNlXiG2SNdAr"
      },
      "execution_count": null,
      "outputs": []
    }
  ]
}